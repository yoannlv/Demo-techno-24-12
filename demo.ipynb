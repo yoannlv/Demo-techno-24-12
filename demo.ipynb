{
  "nbformat": 4,
  "nbformat_minor": 0,
  "metadata": {
    "colab": {
      "name": "Untitled3.ipynb",
      "provenance": [],
      "authorship_tag": "ABX9TyMBYp5j/Xw6b2SAXYGNCn8C"
    },
    "kernelspec": {
      "name": "python3",
      "display_name": "Python 3"
    }
  },
  "cells": [
    {
      "cell_type": "markdown",
      "metadata": {
        "id": "APBewy79_AG_"
      },
      "source": [
        "*Démo*"
      ]
    },
    {
      "cell_type": "markdown",
      "metadata": {
        "id": "U-UxH8JEGHXp"
      },
      "source": [
        "**Et voilà le résultat !**"
      ]
    },
    {
      "cell_type": "markdown",
      "metadata": {
        "id": "MP7e5Q1W_L-6"
      },
      "source": [
        ""
      ]
    }
  ]
}