{
  "nbformat": 4,
  "nbformat_minor": 0,
  "metadata": {
    "colab": {
      "name": "Untitled3.ipynb",
      "provenance": [],
      "authorship_tag": "ABX9TyNssRgC5fByBxSNTO5GdbBe"
    },
    "kernelspec": {
      "name": "python3",
      "display_name": "Python 3"
    }
  },
  "cells": [
    {
      "cell_type": "markdown",
      "metadata": {
        "id": "APBewy79_AG_"
      },
      "source": [
        "*Démo*"
      ]
    },
    {
      "cell_type": "markdown",
      "metadata": {
        "id": "MP7e5Q1W_L-6"
      },
      "source": [
        ""
      ]
    }
  ]
}